{
 "cells": [
  {
   "cell_type": "code",
   "execution_count": 1,
   "metadata": {},
   "outputs": [],
   "source": [
    "from random import randint\n",
    "from numpy import mean, std\n",
    "from union_find import UnionFind\n",
    "from percolation_grid import PercolationGrid\n",
    "from percolation_tests import PercolationGrid5x5Test"
   ]
  },
  {
   "cell_type": "markdown",
   "metadata": {},
   "source": [
    "# Sample visualization\n",
    "- https://www.youtube.com/watch?v=4pYvVtO1WxI\n",
    "\n",
    "# Specifications \n",
    "- http://coursera.cs.princeton.edu/algs4/assignments/percolation.html\n",
    "\n",
    "\n",
    "# TODO\n",
    "\n",
    "- `PercolationGrid` functions tests\n",
    "\n",
    "```\n",
    "- unblock_cell()\n",
    "- connect_unblocked_neighbors()\n",
    "- check_scope()\n",
    "- x cell_to_node()\n",
    "- x node_to_cell()\n",
    "```\n",
    "\n",
    "```````````````````````````````````````````````\n",
    "  .1  .2  .3  .4  .5\n",
    "  +---+---+---+---+---+\n",
    "1 | x | x |   |   |   |\n",
    "  +---+---+---+---+---+\n",
    "2 |   |   |   |   |   |\n",
    "  +---+---+---+---+---+\n",
    "3 |   |   |   |   |   |\n",
    "  +---+---+---+---+---+\n",
    "4 |   |   |   |   |   |\n",
    "  +---+---+---+---+---+\n",
    "5 |   |   |   |   |   |\n",
    "  +---+---+---+---+---+\n",
    "\n",
    "  .1  .2  .3  .4  .5\n",
    "  +---+---+---+---+---+\n",
    "1 |  1|  2|  3|  4|  5|\n",
    "  +---+---+---+---+---+\n",
    "2 |  6|  7|  8|  9| 10|\n",
    "  +---+---+---+---+---+\n",
    "3 | 11| 12| 13| 14| 15|\n",
    "  +---+---+---+---+---+\n",
    "4 | 16| 17| 18| 19| 20|\n",
    "  +---+---+---+---+---+\n",
    "5 | 21| 22| 23| 24| 25|\n",
    "  +---+---+---+---+---+\n",
    "```````````````````````````````````````````````"
   ]
  },
  {
   "cell_type": "code",
   "execution_count": 2,
   "metadata": {},
   "outputs": [
    {
     "name": "stdout",
     "output_type": "stream",
     "text": [
      "node_to_cell(): Ok\n",
      "cell_to_node(): Ok\n"
     ]
    }
   ],
   "source": [
    "PTest = PercolationGrid5x5Test()\n",
    "PTest.node_to_cell_test()\n",
    "PTest.cell_to_node_test()"
   ]
  },
  {
   "cell_type": "code",
   "execution_count": null,
   "metadata": {},
   "outputs": [],
   "source": []
  },
  {
   "cell_type": "code",
   "execution_count": null,
   "metadata": {},
   "outputs": [],
   "source": []
  },
  {
   "cell_type": "code",
   "execution_count": null,
   "metadata": {},
   "outputs": [],
   "source": []
  },
  {
   "cell_type": "code",
   "execution_count": null,
   "metadata": {},
   "outputs": [],
   "source": []
  }
 ],
 "metadata": {
  "kernelspec": {
   "display_name": "Python 3",
   "language": "python",
   "name": "python3"
  },
  "language_info": {
   "codemirror_mode": {
    "name": "ipython",
    "version": 3
   },
   "file_extension": ".py",
   "mimetype": "text/x-python",
   "name": "python",
   "nbconvert_exporter": "python",
   "pygments_lexer": "ipython3",
   "version": "3.6.5"
  }
 },
 "nbformat": 4,
 "nbformat_minor": 2
}
