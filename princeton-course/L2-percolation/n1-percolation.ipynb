{
 "cells": [
  {
   "cell_type": "code",
   "execution_count": 3,
   "metadata": {},
   "outputs": [],
   "source": [
    "from random import randint\n",
    "from numpy import mean, std\n",
    "from union_find import UnionFind\n",
    "from percolation_grid import PercolationGrid\n",
    "\n",
    "# Sample visualization: https://www.youtube.com/watch?v=4pYvVtO1WxI\n",
    "# Problem: http://coursera.cs.princeton.edu/algs4/assignments/percolation.html"
   ]
  },
  {
   "cell_type": "markdown",
   "metadata": {},
   "source": [
    "# TODO\n",
    "\n",
    "- `PercolationGrid` functions tests\n",
    "\n",
    "```\n",
    "- check_scope()\n",
    "- cell_to_node()\n",
    "- node_to_cell()\n",
    "- unblock_cell()\n",
    "- connect_unblocked_neighbors()\n",
    "```"
   ]
  },
  {
   "cell_type": "code",
   "execution_count": null,
   "metadata": {},
   "outputs": [],
   "source": [
    "\n"
   ]
  },
  {
   "cell_type": "code",
   "execution_count": null,
   "metadata": {},
   "outputs": [],
   "source": []
  },
  {
   "cell_type": "code",
   "execution_count": null,
   "metadata": {},
   "outputs": [],
   "source": []
  }
 ],
 "metadata": {
  "kernelspec": {
   "display_name": "Python 3",
   "language": "python",
   "name": "python3"
  },
  "language_info": {
   "codemirror_mode": {
    "name": "ipython",
    "version": 3
   },
   "file_extension": ".py",
   "mimetype": "text/x-python",
   "name": "python",
   "nbconvert_exporter": "python",
   "pygments_lexer": "ipython3",
   "version": "3.6.5"
  }
 },
 "nbformat": 4,
 "nbformat_minor": 2
}
